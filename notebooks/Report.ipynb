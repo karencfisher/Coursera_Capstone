{
 "cells": [
  {
   "cell_type": "markdown",
   "metadata": {},
   "source": [
    "### Initial Business problem and background\n",
    "\n",
    "Toronto, the capital of the Canadian province of Ontario, is the most populous urban area in the country. A diverse, multicultural city, it is the country's financial and commercial center. Boasting many cultural assets, it is also a popular tourism destination.\n",
    "\n",
    "An experienced restaurateur is looking to find an opening in the city, with an intent to open a contemporary, multi-ethnic restaurant. The question is, of the city's diverse communities and neighborhoods, to find a lucrative location. This will take, among other considerations, the appropriate business and economic ecosystem, so as to find the most promising niche in a complex tapestry of existing restaurants, other attractions, and demographics. Our role is to provide relevant data points on which their decision may be based.\n",
    "\n",
    "Questions include whether the demographics in the relevant neighborhoods is supportive the endeavor, as it is to be targeted for especially younger professionals in the 20 – 45 age range with sufficient disposable income, which types of cuisine may compliment existing establishments so as to fill in an unmet need, and that an area is not always saturated with similar businesses.\n",
    "\n",
    "### Target Audience\n",
    "\n",
    "Is the primary party looking to establish the restaurant, and their investors who will base decisions on the business plan based in part on the data analysis presented here."
   ]
  },
  {
   "cell_type": "code",
   "execution_count": 42,
   "metadata": {},
   "outputs": [],
   "source": [
    "import os\n",
    "import json\n",
    "import re\n",
    "import requests\n",
    "\n",
    "import pandas as pd\n",
    "import numpy as np\n",
    "import matplotlib.pyplot as plt\n",
    "\n",
    "from sklearn.cluster import KMeans\n",
    "from scipy.spatial.distance import cdist\n",
    "\n",
    "import folium\n",
    "from geopy.geocoders import Nominatim"
   ]
  },
  {
   "cell_type": "markdown",
   "metadata": {},
   "source": [
    "### Data Selection and cleaning\n",
    "\n",
    "Two primary data sources will be employed in a preliminary analysis:\n",
    "\n",
    "1. Neighborhood profiles, including demographic data, will be drawn from Toronto City's Open Portal. We will rely heavily on the data sets pertaining to neighborhood boundaries (https://open.toronto.ca/dataset/neighbourhoods/) as well as demographic data for each neighborhood for a 2016 census (https://open.toronto.ca/dataset/neighbourhood-profiles/)\n",
    "\n",
    "The neighborhood boundary data is in geojson format as shape data for mapping. \n",
    "\n",
    "https://ckan0.cf.opendata.inter.prod-toronto.ca/download_resource/a083c865-6d60-4d1d-b6c6-b0c8a85f9c15?format=geojson&projection=4326\n",
    "\n",
    "It omits unfortunately unique geographical coordinates for each neighborhood, but this can be derived from the vertices of the polygons describing the neighborhood boundaries. We simply calculate the centroid within each neighborhood. \n"
   ]
  },
  {
   "cell_type": "code",
   "execution_count": 37,
   "metadata": {},
   "outputs": [],
   "source": [
    "def getNeighborhoods(shape_data):\n",
    "    '''\n",
    "    Calculate centroids for neighborhoods and build dataframe\n",
    "    \n",
    "    Input:\n",
    "    shape_data: JSON neighborhood geographic boundaries for neighborhoods from Toronto's open data portal\n",
    "    \n",
    "    return:\n",
    "    Pandas dataframe of neighborhoods with center geographical coordinates\n",
    "    '''\n",
    "    neighborhoods = []\n",
    "    for place in shape_data['features']:\n",
    "        neighborhood = {'Neighborhood_number': place['properties']['AREA_SHORT_CODE'],\n",
    "                        'Neighborhood': place['properties']['AREA_NAME']}\n",
    "        coords = np.array(place['geometry']['coordinates'][0])\n",
    "        centroid = np.mean(coords, axis=0)\n",
    "        neighborhood['Latitude'] = centroid[1]\n",
    "        neighborhood['Longitude'] = centroid[0]\n",
    "        neighborhoods.append(neighborhood)\n",
    "    return pd.DataFrame(neighborhoods)"
   ]
  },
  {
   "cell_type": "code",
   "execution_count": 38,
   "metadata": {},
   "outputs": [
    {
     "data": {
      "text/html": [
       "<div>\n",
       "<style scoped>\n",
       "    .dataframe tbody tr th:only-of-type {\n",
       "        vertical-align: middle;\n",
       "    }\n",
       "\n",
       "    .dataframe tbody tr th {\n",
       "        vertical-align: top;\n",
       "    }\n",
       "\n",
       "    .dataframe thead th {\n",
       "        text-align: right;\n",
       "    }\n",
       "</style>\n",
       "<table border=\"1\" class=\"dataframe\">\n",
       "  <thead>\n",
       "    <tr style=\"text-align: right;\">\n",
       "      <th></th>\n",
       "      <th>Neighborhood_number</th>\n",
       "      <th>Neighborhood</th>\n",
       "      <th>Latitude</th>\n",
       "      <th>Longitude</th>\n",
       "    </tr>\n",
       "  </thead>\n",
       "  <tbody>\n",
       "    <tr>\n",
       "      <th>0</th>\n",
       "      <td>96</td>\n",
       "      <td>Casa Loma (96)</td>\n",
       "      <td>43.680555</td>\n",
       "      <td>-79.406011</td>\n",
       "    </tr>\n",
       "    <tr>\n",
       "      <th>1</th>\n",
       "      <td>95</td>\n",
       "      <td>Annex (95)</td>\n",
       "      <td>43.673365</td>\n",
       "      <td>-79.402468</td>\n",
       "    </tr>\n",
       "    <tr>\n",
       "      <th>2</th>\n",
       "      <td>109</td>\n",
       "      <td>Caledonia-Fairbank (109)</td>\n",
       "      <td>43.688206</td>\n",
       "      <td>-79.459095</td>\n",
       "    </tr>\n",
       "    <tr>\n",
       "      <th>3</th>\n",
       "      <td>64</td>\n",
       "      <td>Woodbine Corridor (64)</td>\n",
       "      <td>43.675813</td>\n",
       "      <td>-79.314969</td>\n",
       "    </tr>\n",
       "    <tr>\n",
       "      <th>4</th>\n",
       "      <td>103</td>\n",
       "      <td>Lawrence Park South (103)</td>\n",
       "      <td>43.714161</td>\n",
       "      <td>-79.407022</td>\n",
       "    </tr>\n",
       "  </tbody>\n",
       "</table>\n",
       "</div>"
      ],
      "text/plain": [
       "   Neighborhood_number               Neighborhood   Latitude  Longitude\n",
       "0                   96             Casa Loma (96)  43.680555 -79.406011\n",
       "1                   95                 Annex (95)  43.673365 -79.402468\n",
       "2                  109   Caledonia-Fairbank (109)  43.688206 -79.459095\n",
       "3                   64     Woodbine Corridor (64)  43.675813 -79.314969\n",
       "4                  103  Lawrence Park South (103)  43.714161 -79.407022"
      ]
     },
     "execution_count": 38,
     "metadata": {},
     "output_type": "execute_result"
    }
   ],
   "source": [
    "path = os.path.join(os.path.abspath('../data'), 'Neighbourhoods.geojson')\n",
    "with open(path, 'r') as FILE:\n",
    "    data = json.load(FILE)\n",
    "\n",
    "neighborhoods_df = getNeighborhoods(data)\n",
    "neighborhoods_df.head()"
   ]
  },
  {
   "cell_type": "markdown",
   "metadata": {},
   "source": [
    "We'll cleanup the neighborhood names to omit the neighborhood numbers from them."
   ]
  },
  {
   "cell_type": "code",
   "execution_count": 39,
   "metadata": {},
   "outputs": [
    {
     "data": {
      "text/html": [
       "<div>\n",
       "<style scoped>\n",
       "    .dataframe tbody tr th:only-of-type {\n",
       "        vertical-align: middle;\n",
       "    }\n",
       "\n",
       "    .dataframe tbody tr th {\n",
       "        vertical-align: top;\n",
       "    }\n",
       "\n",
       "    .dataframe thead th {\n",
       "        text-align: right;\n",
       "    }\n",
       "</style>\n",
       "<table border=\"1\" class=\"dataframe\">\n",
       "  <thead>\n",
       "    <tr style=\"text-align: right;\">\n",
       "      <th></th>\n",
       "      <th>Neighborhood_number</th>\n",
       "      <th>Neighborhood</th>\n",
       "      <th>Latitude</th>\n",
       "      <th>Longitude</th>\n",
       "    </tr>\n",
       "  </thead>\n",
       "  <tbody>\n",
       "    <tr>\n",
       "      <th>0</th>\n",
       "      <td>96</td>\n",
       "      <td>Casa Loma</td>\n",
       "      <td>43.680555</td>\n",
       "      <td>-79.406011</td>\n",
       "    </tr>\n",
       "    <tr>\n",
       "      <th>1</th>\n",
       "      <td>95</td>\n",
       "      <td>Annex</td>\n",
       "      <td>43.673365</td>\n",
       "      <td>-79.402468</td>\n",
       "    </tr>\n",
       "    <tr>\n",
       "      <th>2</th>\n",
       "      <td>109</td>\n",
       "      <td>Caledonia-Fairbank</td>\n",
       "      <td>43.688206</td>\n",
       "      <td>-79.459095</td>\n",
       "    </tr>\n",
       "    <tr>\n",
       "      <th>3</th>\n",
       "      <td>64</td>\n",
       "      <td>Woodbine Corridor</td>\n",
       "      <td>43.675813</td>\n",
       "      <td>-79.314969</td>\n",
       "    </tr>\n",
       "    <tr>\n",
       "      <th>4</th>\n",
       "      <td>103</td>\n",
       "      <td>Lawrence Park South</td>\n",
       "      <td>43.714161</td>\n",
       "      <td>-79.407022</td>\n",
       "    </tr>\n",
       "  </tbody>\n",
       "</table>\n",
       "</div>"
      ],
      "text/plain": [
       "   Neighborhood_number          Neighborhood   Latitude  Longitude\n",
       "0                   96            Casa Loma   43.680555 -79.406011\n",
       "1                   95                Annex   43.673365 -79.402468\n",
       "2                  109   Caledonia-Fairbank   43.688206 -79.459095\n",
       "3                   64    Woodbine Corridor   43.675813 -79.314969\n",
       "4                  103  Lawrence Park South   43.714161 -79.407022"
      ]
     },
     "execution_count": 39,
     "metadata": {},
     "output_type": "execute_result"
    }
   ],
   "source": [
    "neighborhoods_df['Neighborhood'] = neighborhoods_df['Neighborhood'].apply(lambda x: re.sub(r'\\([^)]*\\)', '', x))\n",
    "neighborhoods_df.head()"
   ]
  },
  {
   "cell_type": "markdown",
   "metadata": {},
   "source": [
    "How many neighborhoods are there?"
   ]
  },
  {
   "cell_type": "code",
   "execution_count": 34,
   "metadata": {},
   "outputs": [
    {
     "name": "stdout",
     "output_type": "stream",
     "text": [
      "This gives us a total of 140 neighborhoods\n"
     ]
    }
   ],
   "source": [
    "print(f'This gives us a total of {neighborhoods_df.shape[0]} neighborhoods')"
   ]
  },
  {
   "cell_type": "markdown",
   "metadata": {},
   "source": [
    "The demographic data is downloaded in CSV form from https://ckan0.cf.opendata.inter.prod-toronto.ca/download_resource/ef0239b1-832b-4d0b-a1f3-4153e53b189e?format=csv. This contains extensive demographic data by neighborhood, from which we will be extracting population data for 2016. \n",
    "\n",
    "The original dataset contains a lot of information we will not be needing. It also has it in a wide format, with neighborhoods as columns, which we want to be as rows. The original dataset has many different categories, of which we will only be interested in two: Population, and Neighborhood Inofrmation. So we will filter it for those categories, drop unecessary columns, and reshape it to have population by neighborhood."
   ]
  },
  {
   "cell_type": "code",
   "execution_count": 27,
   "metadata": {},
   "outputs": [
    {
     "name": "stderr",
     "output_type": "stream",
     "text": [
      "C:\\Users\\A\\.virtualenvs\\Coursera_Capstone-zZP0SJV7\\lib\\site-packages\\pandas\\core\\frame.py:4315: SettingWithCopyWarning: \n",
      "A value is trying to be set on a copy of a slice from a DataFrame\n",
      "\n",
      "See the caveats in the documentation: https://pandas.pydata.org/pandas-docs/stable/user_guide/indexing.html#returning-a-view-versus-a-copy\n",
      "  errors=errors,\n",
      "C:\\Users\\A\\.virtualenvs\\Coursera_Capstone-zZP0SJV7\\lib\\site-packages\\pandas\\core\\frame.py:4449: SettingWithCopyWarning: \n",
      "A value is trying to be set on a copy of a slice from a DataFrame\n",
      "\n",
      "See the caveats in the documentation: https://pandas.pydata.org/pandas-docs/stable/user_guide/indexing.html#returning-a-view-versus-a-copy\n",
      "  errors=errors,\n"
     ]
    },
    {
     "data": {
      "text/html": [
       "<div>\n",
       "<style scoped>\n",
       "    .dataframe tbody tr th:only-of-type {\n",
       "        vertical-align: middle;\n",
       "    }\n",
       "\n",
       "    .dataframe tbody tr th {\n",
       "        vertical-align: top;\n",
       "    }\n",
       "\n",
       "    .dataframe thead th {\n",
       "        text-align: right;\n",
       "    }\n",
       "</style>\n",
       "<table border=\"1\" class=\"dataframe\">\n",
       "  <thead>\n",
       "    <tr style=\"text-align: right;\">\n",
       "      <th>Neighborhood</th>\n",
       "      <th>Neighbourhood Number</th>\n",
       "      <th>Population, 2016</th>\n",
       "      <th>Population Change 2011-2016</th>\n",
       "      <th>Working Age (25-54 years)</th>\n",
       "    </tr>\n",
       "  </thead>\n",
       "  <tbody>\n",
       "    <tr>\n",
       "      <th>Agincourt North</th>\n",
       "      <td>129</td>\n",
       "      <td>29,113</td>\n",
       "      <td>-3.90%</td>\n",
       "      <td>11,305</td>\n",
       "    </tr>\n",
       "    <tr>\n",
       "      <th>Agincourt South-Malvern West</th>\n",
       "      <td>128</td>\n",
       "      <td>23,757</td>\n",
       "      <td>8.00%</td>\n",
       "      <td>9,965</td>\n",
       "    </tr>\n",
       "    <tr>\n",
       "      <th>Alderwood</th>\n",
       "      <td>20</td>\n",
       "      <td>12,054</td>\n",
       "      <td>1.30%</td>\n",
       "      <td>5,220</td>\n",
       "    </tr>\n",
       "    <tr>\n",
       "      <th>Annex</th>\n",
       "      <td>95</td>\n",
       "      <td>30,526</td>\n",
       "      <td>4.60%</td>\n",
       "      <td>15,040</td>\n",
       "    </tr>\n",
       "    <tr>\n",
       "      <th>Banbury-Don Mills</th>\n",
       "      <td>42</td>\n",
       "      <td>27,695</td>\n",
       "      <td>2.90%</td>\n",
       "      <td>10,810</td>\n",
       "    </tr>\n",
       "  </tbody>\n",
       "</table>\n",
       "</div>"
      ],
      "text/plain": [
       "Neighborhood                 Neighbourhood Number Population, 2016  \\\n",
       "Agincourt North                               129           29,113   \n",
       "Agincourt South-Malvern West                  128           23,757   \n",
       "Alderwood                                      20           12,054   \n",
       "Annex                                          95           30,526   \n",
       "Banbury-Don Mills                              42           27,695   \n",
       "\n",
       "Neighborhood                 Population Change 2011-2016  \\\n",
       "Agincourt North                                   -3.90%   \n",
       "Agincourt South-Malvern West                       8.00%   \n",
       "Alderwood                                          1.30%   \n",
       "Annex                                              4.60%   \n",
       "Banbury-Don Mills                                  2.90%   \n",
       "\n",
       "Neighborhood                 Working Age (25-54 years)  \n",
       "Agincourt North                                 11,305  \n",
       "Agincourt South-Malvern West                     9,965  \n",
       "Alderwood                                        5,220  \n",
       "Annex                                           15,040  \n",
       "Banbury-Don Mills                               10,810  "
      ]
     },
     "execution_count": 27,
     "metadata": {},
     "output_type": "execute_result"
    }
   ],
   "source": [
    "path = os.path.join(os.path.abspath('../data'), '2016_neighbourhood_profiles.csv')\n",
    "profile_df = pd.read_csv(path)\n",
    "\n",
    "population_df = profile_df[(profile_df['Category'] == 'Population') | \n",
    "                           (profile_df['Category'] == 'Neighbourhood Information')]\n",
    "population_df.drop(columns=['Category', 'Topic', 'Data Source'], inplace=True)\n",
    "population_df.rename(columns={'Characteristic': 'Neighborhood'}, inplace=True)\n",
    "population_df.set_index('Neighborhood', drop=True, inplace=True)\n",
    "population_df = population_df.T\n",
    "\n",
    "population_df.dropna(axis=0, inplace=True)\n",
    "\n",
    "population_df = population_df[['Neighbourhood Number', 'Population, 2016', 'Population Change 2011-2016', 'Working Age (25-54 years)']]\n",
    "\n",
    "population_df.head()"
   ]
  },
  {
   "cell_type": "markdown",
   "metadata": {},
   "source": [
    "It appears we will need to clean up the numerical columns for Population data, converting from string format"
   ]
  },
  {
   "cell_type": "code",
   "execution_count": 28,
   "metadata": {},
   "outputs": [
    {
     "data": {
      "text/plain": [
       "Neighborhood\n",
       "Neighbourhood Number           object\n",
       "Population, 2016               object\n",
       "Population Change 2011-2016    object\n",
       "Working Age (25-54 years)      object\n",
       "dtype: object"
      ]
     },
     "execution_count": 28,
     "metadata": {},
     "output_type": "execute_result"
    }
   ],
   "source": [
    "population_df.dtypes"
   ]
  },
  {
   "cell_type": "code",
   "execution_count": 29,
   "metadata": {},
   "outputs": [
    {
     "data": {
      "text/html": [
       "<div>\n",
       "<style scoped>\n",
       "    .dataframe tbody tr th:only-of-type {\n",
       "        vertical-align: middle;\n",
       "    }\n",
       "\n",
       "    .dataframe tbody tr th {\n",
       "        vertical-align: top;\n",
       "    }\n",
       "\n",
       "    .dataframe thead th {\n",
       "        text-align: right;\n",
       "    }\n",
       "</style>\n",
       "<table border=\"1\" class=\"dataframe\">\n",
       "  <thead>\n",
       "    <tr style=\"text-align: right;\">\n",
       "      <th>Neighborhood</th>\n",
       "      <th>Neighbourhood Number</th>\n",
       "      <th>Population, 2016</th>\n",
       "      <th>Population Change 2011-2016</th>\n",
       "      <th>Working Age (25-54 years)</th>\n",
       "    </tr>\n",
       "  </thead>\n",
       "  <tbody>\n",
       "    <tr>\n",
       "      <th>Agincourt North</th>\n",
       "      <td>129</td>\n",
       "      <td>29113</td>\n",
       "      <td>-3.90</td>\n",
       "      <td>11305</td>\n",
       "    </tr>\n",
       "    <tr>\n",
       "      <th>Agincourt South-Malvern West</th>\n",
       "      <td>128</td>\n",
       "      <td>23757</td>\n",
       "      <td>8.00</td>\n",
       "      <td>9965</td>\n",
       "    </tr>\n",
       "    <tr>\n",
       "      <th>Alderwood</th>\n",
       "      <td>20</td>\n",
       "      <td>12054</td>\n",
       "      <td>1.30</td>\n",
       "      <td>5220</td>\n",
       "    </tr>\n",
       "    <tr>\n",
       "      <th>Annex</th>\n",
       "      <td>95</td>\n",
       "      <td>30526</td>\n",
       "      <td>4.60</td>\n",
       "      <td>15040</td>\n",
       "    </tr>\n",
       "    <tr>\n",
       "      <th>Banbury-Don Mills</th>\n",
       "      <td>42</td>\n",
       "      <td>27695</td>\n",
       "      <td>2.90</td>\n",
       "      <td>10810</td>\n",
       "    </tr>\n",
       "  </tbody>\n",
       "</table>\n",
       "</div>"
      ],
      "text/plain": [
       "Neighborhood                 Neighbourhood Number Population, 2016  \\\n",
       "Agincourt North                               129            29113   \n",
       "Agincourt South-Malvern West                  128            23757   \n",
       "Alderwood                                      20            12054   \n",
       "Annex                                          95            30526   \n",
       "Banbury-Don Mills                              42            27695   \n",
       "\n",
       "Neighborhood                 Population Change 2011-2016  \\\n",
       "Agincourt North                                    -3.90   \n",
       "Agincourt South-Malvern West                        8.00   \n",
       "Alderwood                                           1.30   \n",
       "Annex                                               4.60   \n",
       "Banbury-Don Mills                                   2.90   \n",
       "\n",
       "Neighborhood                 Working Age (25-54 years)  \n",
       "Agincourt North                                  11305  \n",
       "Agincourt South-Malvern West                      9965  \n",
       "Alderwood                                         5220  \n",
       "Annex                                            15040  \n",
       "Banbury-Don Mills                                10810  "
      ]
     },
     "execution_count": 29,
     "metadata": {},
     "output_type": "execute_result"
    }
   ],
   "source": [
    "# Remove commas and convert to integers\n",
    "population_df['Population, 2016'] = population_df['Population, 2016'].apply(lambda x: re.sub(',', '', x))\n",
    "population_df['Population, 2016'].astype(int)\n",
    "\n",
    "population_df['Working Age (25-54 years)'] = population_df['Working Age (25-54 years)'].apply(lambda x: re.sub(',', '', x))\n",
    "population_df['Working Age (25-54 years)'].astype(int)\n",
    "\n",
    "# Remove '%' character and convert to floats\n",
    "population_df['Population Change 2011-2016'] = population_df['Population Change 2011-2016'].apply(lambda x: re.sub('%', '', x))\n",
    "population_df['Population Change 2011-2016'].astype(float)\n",
    "\n",
    "population_df.head()\n",
    "    "
   ]
  },
  {
   "cell_type": "markdown",
   "metadata": {},
   "source": [
    "2. For analysis and segmentation of existing restaurants and other attractions will be obtained using the Foursquare API. This will create a profile of existing establishments already serving the diverse neighborhoods. With this data we can aggregate the various kinds of establishments in each community.\n",
    "\n",
    "First we will need to setup for our use of the the Foursquare API."
   ]
  },
  {
   "cell_type": "code",
   "execution_count": 35,
   "metadata": {},
   "outputs": [],
   "source": [
    "from dotenv import load_dotenv\n",
    "\n",
    "load_dotenv()\n",
    "CLIENT_ID = os.getenv(\"CLIENT_ID\")\n",
    "CLIENT_SECRET = os.getenv(\"CLIENT_SECRET\")\n",
    "VERSION = '20180605'\n",
    "LIMIT = 100\n",
    "\n",
    "BaseURL = ('https://api.foursquare.com/v2/venues/explore?' +\n",
    "           f'client_id={CLIENT_ID}&client_secret={CLIENT_SECRET}&' +\n",
    "           f'v={VERSION}')"
   ]
  },
  {
   "cell_type": "code",
   "execution_count": 36,
   "metadata": {},
   "outputs": [],
   "source": [
    "def getVenues(names, lats, longs, radius=500):\n",
    "    neighbor_venues = []\n",
    "    \n",
    "    count = 0\n",
    "    \n",
    "    # iterate through the neighborhoods grouped by postal codes\n",
    "    for name, lat, long in zip(names, lats, longs):\n",
    "        url = BaseURL + f'&ll={lat},{long}&radius={radius}&limit={LIMIT}'\n",
    "        \n",
    "        # GET response, and make sure it is valid (status_code == 200)\n",
    "        results = requests.get(url)\n",
    "        if results.status_code  != 200:\n",
    "            raise Exception(f'HTTP response code was {results.status_code}')\n",
    "            \n",
    "        # Update what percentage of neighborhoods processed and print\n",
    "        count += 1\n",
    "        print(f'\\r{round(count / len(names) * 100, 2)}% neighborhoods downloaded', end='')\n",
    "            \n",
    "        # Breakdown the JSON response to what we want\n",
    "        venues = results.json()['response']['groups'][0]['items']\n",
    "        for venue in venues:\n",
    "              ven = venue['venue']\n",
    "              row = {'Neighborhood': name,\n",
    "                     'Neighborhood_lat': lat,\n",
    "                     'Neighborhood_long': long,\n",
    "                     'Venue': ven['name'],\n",
    "                     'Category': ven['categories'][0]['name'],\n",
    "                     'Venue_lat': ven['location']['lat'],\n",
    "                     'Venue_long': ven['location']['lng']}\n",
    "              neighbor_venues.append(row)\n",
    "              \n",
    "    # Make it into a Dataframe and return\n",
    "    venues_df = pd.DataFrame(neighbor_venues)\n",
    "        \n",
    "    return venues_df"
   ]
  },
  {
   "cell_type": "code",
   "execution_count": 43,
   "metadata": {},
   "outputs": [
    {
     "name": "stdout",
     "output_type": "stream",
     "text": [
      "100.0% neighborhoods downloaded"
     ]
    },
    {
     "data": {
      "text/html": [
       "<div>\n",
       "<style scoped>\n",
       "    .dataframe tbody tr th:only-of-type {\n",
       "        vertical-align: middle;\n",
       "    }\n",
       "\n",
       "    .dataframe tbody tr th {\n",
       "        vertical-align: top;\n",
       "    }\n",
       "\n",
       "    .dataframe thead th {\n",
       "        text-align: right;\n",
       "    }\n",
       "</style>\n",
       "<table border=\"1\" class=\"dataframe\">\n",
       "  <thead>\n",
       "    <tr style=\"text-align: right;\">\n",
       "      <th></th>\n",
       "      <th>Neighborhood</th>\n",
       "      <th>Neighborhood_lat</th>\n",
       "      <th>Neighborhood_long</th>\n",
       "      <th>Venue</th>\n",
       "      <th>Category</th>\n",
       "      <th>Venue_lat</th>\n",
       "      <th>Venue_long</th>\n",
       "    </tr>\n",
       "  </thead>\n",
       "  <tbody>\n",
       "    <tr>\n",
       "      <th>0</th>\n",
       "      <td>Casa Loma</td>\n",
       "      <td>43.680555</td>\n",
       "      <td>-79.406011</td>\n",
       "      <td>Casa Loma</td>\n",
       "      <td>Castle</td>\n",
       "      <td>43.677934</td>\n",
       "      <td>-79.409521</td>\n",
       "    </tr>\n",
       "    <tr>\n",
       "      <th>1</th>\n",
       "      <td>Casa Loma</td>\n",
       "      <td>43.680555</td>\n",
       "      <td>-79.406011</td>\n",
       "      <td>Baldwin Steps</td>\n",
       "      <td>Historic Site</td>\n",
       "      <td>43.677707</td>\n",
       "      <td>-79.408209</td>\n",
       "    </tr>\n",
       "    <tr>\n",
       "      <th>2</th>\n",
       "      <td>Casa Loma</td>\n",
       "      <td>43.680555</td>\n",
       "      <td>-79.406011</td>\n",
       "      <td>Casa Loma Stables</td>\n",
       "      <td>Museum</td>\n",
       "      <td>43.679395</td>\n",
       "      <td>-79.410905</td>\n",
       "    </tr>\n",
       "    <tr>\n",
       "      <th>3</th>\n",
       "      <td>Casa Loma</td>\n",
       "      <td>43.680555</td>\n",
       "      <td>-79.406011</td>\n",
       "      <td>Flor de Sal</td>\n",
       "      <td>Modern European Restaurant</td>\n",
       "      <td>43.677757</td>\n",
       "      <td>-79.407176</td>\n",
       "    </tr>\n",
       "    <tr>\n",
       "      <th>4</th>\n",
       "      <td>Casa Loma</td>\n",
       "      <td>43.680555</td>\n",
       "      <td>-79.406011</td>\n",
       "      <td>Sir Winston Churchill Park</td>\n",
       "      <td>Park</td>\n",
       "      <td>43.683732</td>\n",
       "      <td>-79.409881</td>\n",
       "    </tr>\n",
       "  </tbody>\n",
       "</table>\n",
       "</div>"
      ],
      "text/plain": [
       "  Neighborhood  Neighborhood_lat  Neighborhood_long  \\\n",
       "0   Casa Loma          43.680555         -79.406011   \n",
       "1   Casa Loma          43.680555         -79.406011   \n",
       "2   Casa Loma          43.680555         -79.406011   \n",
       "3   Casa Loma          43.680555         -79.406011   \n",
       "4   Casa Loma          43.680555         -79.406011   \n",
       "\n",
       "                        Venue                    Category  Venue_lat  \\\n",
       "0                   Casa Loma                      Castle  43.677934   \n",
       "1               Baldwin Steps               Historic Site  43.677707   \n",
       "2           Casa Loma Stables                      Museum  43.679395   \n",
       "3                 Flor de Sal  Modern European Restaurant  43.677757   \n",
       "4  Sir Winston Churchill Park                        Park  43.683732   \n",
       "\n",
       "   Venue_long  \n",
       "0  -79.409521  \n",
       "1  -79.408209  \n",
       "2  -79.410905  \n",
       "3  -79.407176  \n",
       "4  -79.409881  "
      ]
     },
     "execution_count": 43,
     "metadata": {},
     "output_type": "execute_result"
    }
   ],
   "source": [
    "venues_df = getVenues(neighborhoods_df['Neighborhood'],\n",
    "                      neighborhoods_df['Latitude'],\n",
    "                      neighborhoods_df['Longitude'])\n",
    "\n",
    "venues_df.head()"
   ]
  },
  {
   "cell_type": "markdown",
   "metadata": {},
   "source": [
    "How many venues does this give us?"
   ]
  },
  {
   "cell_type": "code",
   "execution_count": 46,
   "metadata": {},
   "outputs": [
    {
     "name": "stdout",
     "output_type": "stream",
     "text": [
      "Number of Toronto venues found = 1757\n"
     ]
    }
   ],
   "source": [
    "print(f'Number of Toronto venues found = {venues_df.shape[0]}')"
   ]
  },
  {
   "cell_type": "markdown",
   "metadata": {},
   "source": [
    "Many of which are not restaraunts, so we will filter the results to just venues with \"restaurant\" in Category"
   ]
  },
  {
   "cell_type": "code",
   "execution_count": 49,
   "metadata": {},
   "outputs": [
    {
     "data": {
      "text/html": [
       "<div>\n",
       "<style scoped>\n",
       "    .dataframe tbody tr th:only-of-type {\n",
       "        vertical-align: middle;\n",
       "    }\n",
       "\n",
       "    .dataframe tbody tr th {\n",
       "        vertical-align: top;\n",
       "    }\n",
       "\n",
       "    .dataframe thead th {\n",
       "        text-align: right;\n",
       "    }\n",
       "</style>\n",
       "<table border=\"1\" class=\"dataframe\">\n",
       "  <thead>\n",
       "    <tr style=\"text-align: right;\">\n",
       "      <th></th>\n",
       "      <th>Neighborhood</th>\n",
       "      <th>Neighborhood_lat</th>\n",
       "      <th>Neighborhood_long</th>\n",
       "      <th>Venue</th>\n",
       "      <th>Category</th>\n",
       "      <th>Venue_lat</th>\n",
       "      <th>Venue_long</th>\n",
       "    </tr>\n",
       "  </thead>\n",
       "  <tbody>\n",
       "    <tr>\n",
       "      <th>3</th>\n",
       "      <td>Casa Loma</td>\n",
       "      <td>43.680555</td>\n",
       "      <td>-79.406011</td>\n",
       "      <td>Flor de Sal</td>\n",
       "      <td>Modern European Restaurant</td>\n",
       "      <td>43.677757</td>\n",
       "      <td>-79.407176</td>\n",
       "    </tr>\n",
       "    <tr>\n",
       "      <th>17</th>\n",
       "      <td>Annex</td>\n",
       "      <td>43.673365</td>\n",
       "      <td>-79.402468</td>\n",
       "      <td>Playa Cabana</td>\n",
       "      <td>Mexican Restaurant</td>\n",
       "      <td>43.676112</td>\n",
       "      <td>-79.401279</td>\n",
       "    </tr>\n",
       "    <tr>\n",
       "      <th>19</th>\n",
       "      <td>Annex</td>\n",
       "      <td>43.673365</td>\n",
       "      <td>-79.402468</td>\n",
       "      <td>Mistura</td>\n",
       "      <td>Italian Restaurant</td>\n",
       "      <td>43.674285</td>\n",
       "      <td>-79.398426</td>\n",
       "    </tr>\n",
       "    <tr>\n",
       "      <th>20</th>\n",
       "      <td>Annex</td>\n",
       "      <td>43.673365</td>\n",
       "      <td>-79.402468</td>\n",
       "      <td>Le Paradis</td>\n",
       "      <td>French Restaurant</td>\n",
       "      <td>43.675007</td>\n",
       "      <td>-79.400036</td>\n",
       "    </tr>\n",
       "    <tr>\n",
       "      <th>21</th>\n",
       "      <td>Annex</td>\n",
       "      <td>43.673365</td>\n",
       "      <td>-79.402468</td>\n",
       "      <td>Roti Cuisine of India</td>\n",
       "      <td>Indian Restaurant</td>\n",
       "      <td>43.674618</td>\n",
       "      <td>-79.408249</td>\n",
       "    </tr>\n",
       "  </tbody>\n",
       "</table>\n",
       "</div>"
      ],
      "text/plain": [
       "   Neighborhood  Neighborhood_lat  Neighborhood_long                  Venue  \\\n",
       "3    Casa Loma          43.680555         -79.406011            Flor de Sal   \n",
       "17       Annex          43.673365         -79.402468           Playa Cabana   \n",
       "19       Annex          43.673365         -79.402468                Mistura   \n",
       "20       Annex          43.673365         -79.402468             Le Paradis   \n",
       "21       Annex          43.673365         -79.402468  Roti Cuisine of India   \n",
       "\n",
       "                      Category  Venue_lat  Venue_long  \n",
       "3   Modern European Restaurant  43.677757  -79.407176  \n",
       "17          Mexican Restaurant  43.676112  -79.401279  \n",
       "19          Italian Restaurant  43.674285  -79.398426  \n",
       "20           French Restaurant  43.675007  -79.400036  \n",
       "21           Indian Restaurant  43.674618  -79.408249  "
      ]
     },
     "execution_count": 49,
     "metadata": {},
     "output_type": "execute_result"
    }
   ],
   "source": [
    "restaurants_df = venues_df[venues_df['Category'].str.contains('Restaurant')]\n",
    "restaurants_df.head()"
   ]
  },
  {
   "cell_type": "markdown",
   "metadata": {},
   "source": [
    "How many restaurants?"
   ]
  },
  {
   "cell_type": "code",
   "execution_count": 50,
   "metadata": {},
   "outputs": [
    {
     "name": "stdout",
     "output_type": "stream",
     "text": [
      "Number of restaurants = 376\n"
     ]
    }
   ],
   "source": [
    "print(f'Number of restaurants = {restaurants_df.shape[0]}')"
   ]
  },
  {
   "cell_type": "markdown",
   "metadata": {},
   "source": [
    "And how many are of different types?"
   ]
  },
  {
   "cell_type": "code",
   "execution_count": 51,
   "metadata": {},
   "outputs": [
    {
     "data": {
      "text/plain": [
       "Italian Restaurant               42\n",
       "Restaurant                       41\n",
       "Fast Food Restaurant             28\n",
       "Sushi Restaurant                 23\n",
       "Indian Restaurant                23\n",
       "Japanese Restaurant              19\n",
       "Vietnamese Restaurant            17\n",
       "Chinese Restaurant               17\n",
       "Thai Restaurant                  16\n",
       "Middle Eastern Restaurant        15\n",
       "Mexican Restaurant               10\n",
       "Asian Restaurant                 10\n",
       "Seafood Restaurant               10\n",
       "Caribbean Restaurant              9\n",
       "Greek Restaurant                  8\n",
       "Falafel Restaurant                8\n",
       "Korean Restaurant                 6\n",
       "Portuguese Restaurant             5\n",
       "Vegetarian / Vegan Restaurant     5\n",
       "French Restaurant                 4\n",
       "American Restaurant               4\n",
       "Ethiopian Restaurant              4\n",
       "Mediterranean Restaurant          4\n",
       "Ramen Restaurant                  4\n",
       "Filipino Restaurant               3\n",
       "Cantonese Restaurant              3\n",
       "Afghan Restaurant                 2\n",
       "Tapas Restaurant                  2\n",
       "New American Restaurant           2\n",
       "Tibetan Restaurant                2\n",
       "Persian Restaurant                2\n",
       "Pakistani Restaurant              2\n",
       "Modern European Restaurant        2\n",
       "Brazilian Restaurant              2\n",
       "Turkish Restaurant                2\n",
       "Indonesian Restaurant             1\n",
       "Latin American Restaurant         1\n",
       "Cajun / Creole Restaurant         1\n",
       "Cuban Restaurant                  1\n",
       "Jewish Restaurant                 1\n",
       "Comfort Food Restaurant           1\n",
       "Malay Restaurant                  1\n",
       "Moroccan Restaurant               1\n",
       "Tex-Mex Restaurant                1\n",
       "Belgian Restaurant                1\n",
       "Indian Chinese Restaurant         1\n",
       "Hotpot Restaurant                 1\n",
       "African Restaurant                1\n",
       "German Restaurant                 1\n",
       "Hakka Restaurant                  1\n",
       "Syrian Restaurant                 1\n",
       "South American Restaurant         1\n",
       "Halal Restaurant                  1\n",
       "Egyptian Restaurant               1\n",
       "Dumpling Restaurant               1\n",
       "Name: Category, dtype: int64"
      ]
     },
     "execution_count": 51,
     "metadata": {},
     "output_type": "execute_result"
    }
   ],
   "source": [
    "restaurants_df['Category'].value_counts()"
   ]
  },
  {
   "cell_type": "code",
   "execution_count": null,
   "metadata": {},
   "outputs": [],
   "source": []
  }
 ],
 "metadata": {
  "kernelspec": {
   "display_name": "Coursera_Capstone",
   "language": "python",
   "name": "coursera_capstone"
  },
  "language_info": {
   "codemirror_mode": {
    "name": "ipython",
    "version": 3
   },
   "file_extension": ".py",
   "mimetype": "text/x-python",
   "name": "python",
   "nbconvert_exporter": "python",
   "pygments_lexer": "ipython3",
   "version": "3.7.4"
  }
 },
 "nbformat": 4,
 "nbformat_minor": 2
}
