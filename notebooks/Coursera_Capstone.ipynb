{
  "nbformat": 4,
  "nbformat_minor": 0,
  "metadata": {
    "colab": {
      "name": "Coursera_Capstone.ipynb",
      "provenance": [],
      "authorship_tag": "ABX9TyPiQmuRSq9ii4eT41EA1xh5",
      "include_colab_link": true
    },
    "kernelspec": {
      "name": "python3",
      "display_name": "Python 3"
    }
  },
  "cells": [
    {
      "cell_type": "markdown",
      "metadata": {
        "id": "view-in-github",
        "colab_type": "text"
      },
      "source": [
        "<a href=\"https://colab.research.google.com/github/karencfisher/Coursera_Capstone/blob/main/notebooks/Coursera_Capstone.ipynb\" target=\"_parent\"><img src=\"https://colab.research.google.com/assets/colab-badge.svg\" alt=\"Open In Colab\"/></a>"
      ]
    },
    {
      "cell_type": "markdown",
      "metadata": {
        "id": "B8m66Gs4YE9F"
      },
      "source": [
        "# IBM Data Science Professional Certificate Capstone\r\n",
        "\r\n",
        "### This notbook will be the main notebook for that purpose.\r\n",
        "\r\n",
        "*More to come soon!*"
      ]
    },
    {
      "cell_type": "code",
      "metadata": {
        "id": "pm1J9JDyX7W3"
      },
      "source": [
        "import pandas as pd\r\n",
        "import numpy as np"
      ],
      "execution_count": 2,
      "outputs": []
    },
    {
      "cell_type": "code",
      "metadata": {
        "colab": {
          "base_uri": "https://localhost:8080/"
        },
        "id": "IqgvOrwEYZd0",
        "outputId": "869b4e67-c0c4-44c5-9265-4cc196269c77"
      },
      "source": [
        "print(\"Hello Capstone Project Course!\")"
      ],
      "execution_count": 3,
      "outputs": [
        {
          "output_type": "stream",
          "text": [
            "Hello Capstone Project Course!\n"
          ],
          "name": "stdout"
        }
      ]
    }
  ]
}